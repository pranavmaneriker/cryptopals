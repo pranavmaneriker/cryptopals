{
 "cells": [
  {
   "cell_type": "markdown",
   "metadata": {},
   "source": [
    "## Challenge 1\n",
    "\n",
    "### Convert hex to base 64\n",
    "\n",
    "```\n",
    "Hex encoding: base 16, 0-9,a-f\n",
    "Base64: base 64 (obviously), A-Z,a-z,0-9,+,/\n",
    "```\n",
    "\n",
    "If I consider the base 2 representation, base 16 would be taking 4 bits at a time and converting to the corresponding character (adding leading 0s to make length(string) == 0 (mod 4))\n",
    "For the base 64 representation, 6 bits at a time would give the corresponding representation. Again, we add 0s to make the length 0 mod 6.\n",
    "\n",
    "No math needed, only mapping tables. I feel that the implementation would be simpler and less bug prone with the logic described above rather than converting directly from base 16 to base 64\n"
   ]
  },
  {
   "cell_type": "code",
   "execution_count": 11,
   "metadata": {
    "collapsed": false
   },
   "outputs": [],
   "source": [
    "import string \n",
    "from __future__ import division\n",
    "\n",
    "## initialize\n",
    "\n",
    "global base16_to_base2 \n",
    "global base64_arr\n",
    "base16_to_base2 = {}\n",
    "base64_arr = []\n",
    "\n",
    "for i in range(0,10):\n",
    "    base16_to_base2[str(i)] = (bin(i)[2:]).zfill(4)\n",
    "\n",
    "for i in range(10, 16):\n",
    "    strrep = chr(ord('a') + i - 10) \n",
    "    base16_to_base2[strrep] = bin(i)[2:].zfill(4)\n",
    "\n",
    "base64_arr = list(string.ascii_uppercase)\n",
    "base64_arr.extend(list(string.ascii_lowercase))\n",
    "base64_arr.extend(map(str, list(range(0,10))))\n",
    "        \n"
   ]
  },
  {
   "cell_type": "code",
   "execution_count": 12,
   "metadata": {
    "collapsed": true
   },
   "outputs": [],
   "source": [
    "def base16_to_base64_challenge(hexstr):\n",
    "    binstr = \"\"\n",
    "    for i in range(len(hexstr)):\n",
    "        binstr += base16_to_base2[hexstr[i]]\n",
    "    \n",
    "    len_padded = len(binstr)\n",
    "    if len_padded % 6 != 0:\n",
    "        len_padded = ((len(binstr) // 6) + 1) * 6\n",
    "    padded_hexstr = binstr.zfill(len_padded)\n",
    "    \n",
    "    base64str = \"\"\n",
    "    for i in range(0, len_padded // 6):\n",
    "        substr_to_convert = padded_hexstr[6*i:6*(i+1)]\n",
    "        base64str += base64_arr[int(substr_to_convert, 2)]\n",
    "    \n",
    "    return base64str"
   ]
  },
  {
   "cell_type": "code",
   "execution_count": 13,
   "metadata": {
    "collapsed": false
   },
   "outputs": [
    {
     "name": "stdout",
     "output_type": "stream",
     "text": [
      "True\n"
     ]
    }
   ],
   "source": [
    "### checks\n",
    "hex_1 = '49276d206b696c6c696e6720796f757220627261696e206c696b65206120706f69736f6e6f7573206d757368726f6f6d'\n",
    "base64_1= 'SSdtIGtpbGxpbmcgeW91ciBicmFpbiBsaWtlIGEgcG9pc29ub3VzIG11c2hyb29t'\n",
    "print(base16_to_base64_challenge(hex_1) == base64_1)"
   ]
  },
  {
   "cell_type": "markdown",
   "metadata": {},
   "source": [
    "\n",
    "I think the above was what the challenge wanted me to do. However, python allows me to do sneaky things like: \n",
    "```\n",
    "bin(int(hexstr, 16))[2:]\n",
    "```\n",
    "\n",
    "which I end up using in my final version of the function, which is self contained and does not need any external maps"
   ]
  },
  {
   "cell_type": "code",
   "execution_count": 14,
   "metadata": {
    "collapsed": false
   },
   "outputs": [],
   "source": [
    "import string\n",
    "\n",
    "def base16_to_base64(hexstr):\n",
    "    conv_arr = list(string.ascii_uppercase)\n",
    "    conv_arr.extend(list(string.ascii_lowercase))\n",
    "    conv_arr.extend(map(str, list(range(0,10))))\n",
    "    binstr = bin(int(hexstr, 16))[2:]\n",
    "    \n",
    "    len_padded = len(binstr)\n",
    "    if len_padded % 6 != 0:\n",
    "        len_padded = ((len(binstr) // 6) + 1) * 6\n",
    "    padded_hexstr = binstr.zfill(len_padded)\n",
    "    \n",
    "    base64str = \"\"\n",
    "    for i in range(0, len_padded // 6):\n",
    "        substr_to_convert = padded_hexstr[6*i:6*(i+1)]\n",
    "        base64str += conv_arr[int(substr_to_convert, 2)]\n",
    "    \n",
    "    return base64str"
   ]
  },
  {
   "cell_type": "code",
   "execution_count": 15,
   "metadata": {
    "collapsed": false
   },
   "outputs": [
    {
     "name": "stdout",
     "output_type": "stream",
     "text": [
      "True\n"
     ]
    }
   ],
   "source": [
    "print(base16_to_base64(hex_1) == base64_1)"
   ]
  },
  {
   "cell_type": "markdown",
   "metadata": {},
   "source": [
    "***"
   ]
  },
  {
   "cell_type": "markdown",
   "metadata": {},
   "source": [
    "## Challenge 2\n",
    "### XOR two hex strings\n",
    "\n",
    "A function which takes two hex strings as inputs and produces a hex string which is the bitwise XOR of these two strings\n"
   ]
  },
  {
   "cell_type": "code",
   "execution_count": 16,
   "metadata": {
    "collapsed": true
   },
   "outputs": [],
   "source": [
    "def bitwise_xor(hexstr1, hexstr2):\n",
    "    ## sneaky tricks\n",
    "    binstr1 = bin(int(hexstr1, 16))[2:]\n",
    "    binstr2 = bin(int(hexstr2, 16))[2:]\n",
    "    \n",
    "    len_common = max(len(binstr1), len(binstr2))\n",
    "    binstr1 = binstr1.zfill(len_common)\n",
    "    binstr2 = binstr2.zfill(len_common)\n",
    "\n",
    "    def xor(let1, let2):\n",
    "        if let1 == let2:\n",
    "            return '0'\n",
    "        return '1'\n",
    "    \n",
    "    xorlist = [xor(tup[0], tup[1]) for tup in zip(binstr1, binstr2)]\n",
    "    xorstr = ''.join(xorlist)\n",
    "    \n",
    "    return hex(int(xorstr, 2))[2:]"
   ]
  },
  {
   "cell_type": "code",
   "execution_count": 17,
   "metadata": {
    "collapsed": false
   },
   "outputs": [
    {
     "name": "stdout",
     "output_type": "stream",
     "text": [
      "True\n"
     ]
    }
   ],
   "source": [
    "### check\n",
    "hexstr_1 = '1c0111001f010100061a024b53535009181c'\n",
    "hexstr_2 = '686974207468652062756c6c277320657965'\n",
    "hexstr_xor = '746865206b696420646f6e277420706c6179'\n",
    "print(bitwise_xor(hexstr_1, hexstr_2) == hexstr_xor)\n"
   ]
  },
  {
   "cell_type": "markdown",
   "metadata": {},
   "source": [
    "***"
   ]
  },
  {
   "cell_type": "markdown",
   "metadata": {},
   "source": [
    "## Challenge 3\n",
    "### Single character XOR\n",
    "\n",
    "1b37373331363f78151b7f2b783431333d78397828372d363c78373e783a393b3736 = XOR(message, single character). Find message.\n",
    "\n",
    "I am not sure whether 'character' refers to a single bit of a single english alphabet. Also, this could be a repeated string or just a single string. Thus there are 4 possibilities. However all single bit possibilities are subsumed by the single character possibilities, since the single characters also include bits. Thus, the possibilities are:\n",
    "\n",
    "* (single char, single)\n",
    "* (single char, repeating)\n",
    "\n",
    "This leads to a total of 16 + 16 = 32 possibilities. Here I am assuming a character must be hex. Since the number of possibilities is small enough, I will first break the cipher by observation and then write up the 'metric'. "
   ]
  },
  {
   "cell_type": "code",
   "execution_count": 18,
   "metadata": {
    "collapsed": false
   },
   "outputs": [
    {
     "name": "stdout",
     "output_type": "stream",
     "text": [
      "1b37373331363f78151b7f2b783431333d78397828372d363c78373e783a393b3736\n",
      "1b37373331363f78151b7f2b783431333d78397828372d363c78373e783a393b3736\n",
      "1b37373331363f78151b7f2b783431333d78397828372d363c78373e783a393b3737\n",
      "a26262220272e69040a6e3a692520222c69286939263c272d69262f692b282a2627\n",
      "1b37373331363f78151b7f2b783431333d78397828372d363c78373e783a393b3734\n",
      "3915151113141d5a37395d095a1613111f5a1b5a0a150f141e5a151c5a181b191514\n",
      "1b37373331363f78151b7f2b783431333d78397828372d363c78373e783a393b3735\n",
      "2804040002050c4b26284c184b0702000e4b0a4b1b041e050f4b040d4b090a080405\n",
      "1b37373331363f78151b7f2b783431333d78397828372d363c78373e783a393b3732\n",
      "5f73737775727b3c515f3b6f3c707577793c7d3c6c736972783c737a3c7e7d7f7372\n",
      "1b37373331363f78151b7f2b783431333d78397828372d363c78373e783a393b3733\n",
      "4e62626664636a2d404e2a7e2d616466682d6c2d7d627863692d626b2d6f6c6e6263\n",
      "1b37373331363f78151b7f2b783431333d78397828372d363c78373e783a393b3730\n",
      "7d5151555750591e737d194d1e5257555b1e5f1e4e514b505a1e51581e5c5f5d5150\n",
      "1b37373331363f78151b7f2b783431333d78397828372d363c78373e783a393b3731\n",
      "6c4040444641480f626c085c0f4346444a0f4e0f5f405a414b0f40490f4d4e4c4041\n",
      "1b37373331363f78151b7f2b783431333d78397828372d363c78373e783a393b373e\n",
      "93bfbfbbb9beb7f09d93f7a3f0bcb9bbb5f0b1f0a0bfa5beb4f0bfb6f0b2b1b3bfbe\n",
      "1b37373331363f78151b7f2b783431333d78397828372d363c78373e783a393b373f\n",
      "82aeaeaaa8afa6e18c82e6b2e1ada8aaa4e1a0e1b1aeb4afa5e1aea7e1a3a0a2aeaf\n",
      "1b37373331363f78151b7f2b783431333d78397828372d363c78373e783a393b373c\n",
      "b19d9d999b9c95d2bfb1d581d29e9b9997d293d2829d879c96d29d94d29093919d9c\n",
      "1b37373331363f78151b7f2b783431333d78397828372d363c78373e783a393b373d\n",
      "a08c8c888a8d84c3aea0c490c38f8a8886c382c3938c968d87c38c85c38182808c8d\n",
      "1b37373331363f78151b7f2b783431333d78397828372d363c78373e783a393b373a\n",
      "d7fbfbfffdfaf3b4d9d7b3e7b4f8fdfff1b4f5b4e4fbe1faf0b4fbf2b4f6f5f7fbfa\n",
      "1b37373331363f78151b7f2b783431333d78397828372d363c78373e783a393b373b\n",
      "c6eaeaeeecebe2a5c8c6a2f6a5e9eceee0a5e4a5f5eaf0ebe1a5eae3a5e7e4e6eaeb\n",
      "1b37373331363f78151b7f2b783431333d78397828372d363c78373e783a393b3738\n",
      "f5d9d9dddfd8d196fbf591c596dadfddd396d796c6d9c3d8d296d9d096d4d7d5d9d8\n",
      "1b37373331363f78151b7f2b783431333d78397828372d363c78373e783a393b3739\n",
      "e4c8c8cccec9c087eae480d487cbceccc287c687d7c8d2c9c387c8c187c5c6c4c8c9\n"
     ]
    }
   ],
   "source": [
    "ciphertext = '1b37373331363f78151b7f2b783431333d78397828372d363c78373e783a393b3736'\n",
    "\n",
    "\n",
    "for i in range(0, 16):\n",
    "    hex_char = hex(i)[2:]\n",
    "    print(bitwise_xor(ciphertext, hex_char))\n",
    "    print(bitwise_xor(ciphertext, hex_char*len(ciphertext)))"
   ]
  },
  {
   "cell_type": "markdown",
   "metadata": {},
   "source": [
    "Oops, I forgot that it was an hex encoded string. Lets do this again, but hex decode to ascii"
   ]
  },
  {
   "cell_type": "code",
   "execution_count": 19,
   "metadata": {
    "collapsed": false
   },
   "outputs": [
    {
     "name": "stdout",
     "output_type": "stream",
     "text": [
      "\u001b77316?x\u0015\u001b+x413=x9x(7-6<x7>x:9;76 single 0\n",
      "\u001b77316?x\u0015\u001b+x413=x9x(7-6<x7>x:9;76 repeating 0\n",
      "\u001b77316?x\u0015\u001b+x413=x9x(7-6<x7>x:9;77 single 1\n",
      "\n",
      "&&\" '.i\u0004\n",
      "n:i% \",i(i9&<'-i&/i+(*&' repeating 1\n",
      "\u001b77316?x\u0015\u001b+x413=x9x(7-6<x7>x:9;74 single 2\n",
      "9\u0015\u0015\u0011\u0013\u0014\u001d",
      "Z79]\tZ\u0016\u0013\u0011\u001fZ\u001bZ\n",
      "\u0015\u000f\u0014\u001e",
      "Z\u0015\u001c",
      "Z\u0018\u001b\u0019\u0015\u0014 repeating 2\n",
      "\u001b77316?x\u0015\u001b+x413=x9x(7-6<x7>x:9;75 single 3\n",
      "(\u0004\u0004\u0000\u0002\u0005\f",
      "K&(L\u0018K\u0007\u0002\u0000\u000eK\n",
      "K\u001b\u0004\u001e",
      "\u0005\u000fK\u0004\r",
      "K\t\n",
      "\b\u0004\u0005 repeating 3\n",
      "\u001b77316?x\u0015\u001b+x413=x9x(7-6<x7>x:9;72 single 4\n",
      "_sswur{<Q_;o<puwy<}<lsirx<sz<~}sr repeating 4\n",
      "\u001b77316?x\u0015\u001b+x413=x9x(7-6<x7>x:9;73 single 5\n",
      "Nbbfdcj-@N*~-adfh-l-}bxci-bk-olnbc repeating 5\n",
      "\u001b77316?x\u0015\u001b+x413=x9x(7-6<x7>x:9;70 single 6\n",
      "}QQUWPY\u001e",
      "s}\u0019M\u001e",
      "RWU[\u001e",
      "_\u001e",
      "NQKPZ\u001e",
      "QX\u001e",
      "\\_]QP repeating 6\n",
      "\u001b77316?x\u0015\u001b+x413=x9x(7-6<x7>x:9;71 single 7\n",
      "l@@DFAH\u000fbl\b\\\u000fCFDJ\u000fN\u000f_@ZAK\u000f@I\u000fMNL@A repeating 7\n",
      "\u001b77316?x\u0015\u001b+x413=x9x(7-6<x7>x:9;7> single 8\n",
      "\u001b77316?x\u0015\u001b+x413=x9x(7-6<x7>x:9;7? single 9\n",
      "\u001b77316?x\u0015\u001b+x413=x9x(7-6<x7>x:9;7< single 10\n",
      "\u001b77316?x\u0015\u001b+x413=x9x(7-6<x7>x:9;7= single 11\n",
      "\u001b77316?x\u0015\u001b+x413=x9x(7-6<x7>x:9;7: single 12\n",
      "\u001b77316?x\u0015\u001b+x413=x9x(7-6<x7>x:9;7; single 13\n",
      "\u001b77316?x\u0015\u001b+x413=x9x(7-6<x7>x:9;78 single 14\n",
      "\u001b77316?x\u0015\u001b+x413=x9x(7-6<x7>x:9;79 single 15\n"
     ]
    }
   ],
   "source": [
    "def zfill_ascii(hexstr):\n",
    "    '''\n",
    "    Pad the input string with zeros so that it can be converted to ascii\n",
    "    Assumes that the input string is in hex\n",
    "    Since ascii => 1 byte i.e. 8 bits per character, we fill zeros till length is multiple of 2 (since hex is 4 bits per char)\n",
    "    '''\n",
    "    if len(hexstr) % 2 == 0:\n",
    "        return hexstr\n",
    "    return \"0\" + hexstr\n",
    "\n",
    "for i in range(0, 16):\n",
    "    hex_char = hex(i)[2:]\n",
    "    \n",
    "    xor_1 = bitwise_xor(ciphertext, hex_char)\n",
    "    xor_2 = bitwise_xor(ciphertext, hex_char * len(ciphertext))\n",
    "    input_str_1 = bytearray.fromhex(zfill_ascii(xor_1))\n",
    "    input_str_2 = bytearray.fromhex(zfill_ascii(xor_2))\n",
    "    try:\n",
    "        print(input_str_1.decode(), \"single\", i)\n",
    "    except UnicodeDecodeError:\n",
    "        pass\n",
    "    try:\n",
    "        print(input_str_2.decode(), \"repeating\", i)\n",
    "    except UnicodeDecodeError:\n",
    "        pass"
   ]
  },
  {
   "cell_type": "markdown",
   "metadata": {},
   "source": [
    "Ok. Clearly, character does not mean hex character. Lets take this up a notch, and try all ascii characters (i.e 0-127)"
   ]
  },
  {
   "cell_type": "code",
   "execution_count": 20,
   "metadata": {
    "collapsed": false,
    "scrolled": true
   },
   "outputs": [
    {
     "ename": "SyntaxError",
     "evalue": "invalid syntax (<ipython-input-20-87ec6e8ff63d>, line 16)",
     "output_type": "error",
     "traceback": [
      "\u001b[1;36m  File \u001b[1;32m\"<ipython-input-20-87ec6e8ff63d>\"\u001b[1;36m, line \u001b[1;32m16\u001b[0m\n\u001b[1;33m    except UnicodeDecodeError:\u001b[0m\n\u001b[1;37m         ^\u001b[0m\n\u001b[1;31mSyntaxError\u001b[0m\u001b[1;31m:\u001b[0m invalid syntax\n"
     ]
    }
   ],
   "source": [
    "for i in range(0, 128):\n",
    "    hex_char = hex(i)[2:]\n",
    "    \n",
    "    repeat_len = len(ciphertext) // len(hex_char)\n",
    "    xor_1 = bitwise_xor(ciphertext, hex_char)\n",
    "    xor_2 = bitwise_xor(ciphertext, hex_char * repeat_len)\n",
    "    input_str_1 = bytearray.fromhex(zfill_ascii(xor_1))\n",
    "    input_str_2 = bytearray.fromhex(zfill_ascii(xor_2))\n",
    "    try:\n",
    "        print(input_str_1.decode(), \"single\", i)\n",
    "    except UnicodeDecodeError:\n",
    "        pass\n",
    "    try:\n",
    "        print(input_str_2.decode(), \"repeating\", i)\n",
    "\n",
    "    except UnicodeDecodeError:\n",
    "        pass\n",
    "            "
   ]
  },
  {
   "cell_type": "markdown",
   "metadata": {},
   "source": [
    "**Drumroll**\n",
    "```\n",
    "Cooking MC's like a pound of bacon repeating 88\n",
    "```\n",
    "This one seems to fit. As usual, with any cipher challenge, I dislike the ambiguity in the description. \n",
    "Googling suggests that this is a Vanilla Ice lyric. I don't get the joke, if there is one. Anyway, onwards to a metric.\n",
    "\n",
    "Note to self: single character => either english or ASCII repeating character. From henceforth, assume that it is ASCII repeating\n",
    "\n",
    "Interesting observation: \n",
    "```\n",
    "cOOKINGmc\u0007SLIKEAPOUNDOFBACON repeating 120\n",
    "```\n",
    "\n",
    "Coincidence? Maybe"
   ]
  },
  {
   "cell_type": "markdown",
   "metadata": {},
   "source": [
    "#### Designing the metric\n",
    "\n",
    "The challenge suggests that frequency of characters is important. If I take this as a starting point, there are a few ideas that immediately surface:\n",
    "\n",
    "* Use the full frequency distribution of the english alphabet characters\n",
    "* Use the frequencies of the most frequent characters\n",
    "\n",
    "For the frequency distribution, I use: https://en.wikipedia.org/wiki/Letter_frequency\n",
    "\n",
    "I think checking the Bhattacharya coefficient b/w the english alphabet and decoded ciphertext should be good enough. Easy to implement and seems reliable. The coefficient lies between 0-1, higher values indicating higher similarities with english language distribution. Let's see how well it works with the given text\n",
    "\n",
    "Note: I ignore any characters that are non 'letter' and normalize with the length of the string, to ensure that a large part of the string should match the frequency distribution\n",
    "Note 2: In general, I think that taking bi/tri grams would also be helpful. However, a simple metric should be enough, assuming it works resonably well and we check the top-k values."
   ]
  },
  {
   "cell_type": "code",
   "execution_count": null,
   "metadata": {
    "collapsed": false
   },
   "outputs": [],
   "source": [
    "import string, math\n",
    "from pprint import pprint\n",
    "def poss_string_metric(eng_string):\n",
    "    '''\n",
    "    Returns the Bhattacharya coefficient between the given string and the distribution of characters in the english language\n",
    "    '''\n",
    "    eng_lang_dict = {   \n",
    "        'a': 0.08166999999999999,\n",
    "        'b': 0.01492,\n",
    "        'c': 0.02782,\n",
    "        'd': 0.04253,\n",
    "        'e': 0.12702,\n",
    "        'f': 0.02228,\n",
    "        'g': 0.02015,\n",
    "        'h': 0.06094,\n",
    "        'i': 0.06966,\n",
    "        'j': 0.00153,\n",
    "        'k': 0.00772,\n",
    "        'l': 0.04025,\n",
    "        'm': 0.02406,\n",
    "        'n': 0.06749,\n",
    "        'o': 0.07507,\n",
    "        'p': 0.01929,\n",
    "        'q': 0.00095,\n",
    "        'r': 0.05987,\n",
    "        's': 0.06326999999999999,\n",
    "        't': 0.09055999999999999,\n",
    "        'u': 0.02758,\n",
    "        'v': 0.00978,\n",
    "        'w': 0.0236,\n",
    "        'x': 0.0015,\n",
    "        'y': 0.01974,\n",
    "        'z': 0.00074\n",
    "    }\n",
    "    given_str_dict = {}\n",
    "    for i in string.ascii_lowercase:\n",
    "        given_str_dict[i] = 0\n",
    "    \n",
    "    for i in eng_string.lower():\n",
    "           if i in string.ascii_lowercase:\n",
    "                given_str_dict[i] += 1\n",
    "    \n",
    "    BC = 0\n",
    "    for i in eng_lang_dict:\n",
    "        v1 = eng_lang_dict[i]\n",
    "        v2 = given_str_dict[i]/len(eng_string)\n",
    "        BC += math.sqrt(v1 * v2)\n",
    "    \n",
    "    return BC\n",
    "\n",
    "#now 'solve' the cipher\n",
    "def get_sorted_xor_ciphers(ciphertext):\n",
    "    poss_solns = []\n",
    "    for i in range(0, 128):\n",
    "        hex_char = hex(i)[2:]\n",
    "\n",
    "        repeat_len = len(ciphertext) // len(hex_char)\n",
    "        xor_2 = bitwise_xor(ciphertext, hex_char * repeat_len)\n",
    "        input_str_2 = bytearray.fromhex(zfill_ascii(xor_2))\n",
    "        try:\n",
    "            pl_text = input_str_2.decode()\n",
    "            poss_solns.append((poss_string_metric(pl_text), pl_text, i))\n",
    "        except UnicodeDecodeError:\n",
    "            pass\n",
    "\n",
    "\n",
    "    sorted_solns = sorted(poss_solns, key=lambda x: x[0], reverse=True)\n",
    "    return sorted_solns\n",
    "\n",
    "sorted_solns = get_sorted_xor_ciphers('1b37373331363f78151b7f2b783431333d78397828372d363c78373e783a393b3736')\n",
    "pprint(sorted_solns[0:3], indent=4)\n"
   ]
  },
  {
   "cell_type": "markdown",
   "metadata": {},
   "source": [
    "^^ Metric seems to work. Also gives the interesting solution ^^\n",
    "\n",
    "Onwards to the next challenge\n",
    "\n",
    "***"
   ]
  },
  {
   "cell_type": "markdown",
   "metadata": {},
   "source": [
    "## Challenge 4\n",
    "\n",
    "### Find the XOR ciphered string\n",
    "\n",
    "One of the strings in 4.txt has been XOR ciphered with a method similar to above. Need to find it.\n",
    "\n",
    "I'm just going to sort all the (de)ciphered strings according to their BC. "
   ]
  },
  {
   "cell_type": "code",
   "execution_count": null,
   "metadata": {
    "collapsed": false
   },
   "outputs": [],
   "source": [
    "with open('4.txt') as f:\n",
    "    input_strs = f.readlines()\n",
    "input_strs = map(lambda x: x.strip(), input_strs) \n",
    "\n",
    "output_strs = []\n",
    "for s in input_strs:\n",
    "    output_strs.extend(get_sorted_xor_ciphers(s))\n",
    "\n",
    "output_strs = sorted(output_strs, key=lambda x: x[0], reverse=True)\n",
    "pprint(output_strs[0:5])"
   ]
  },
  {
   "cell_type": "markdown",
   "metadata": {},
   "source": [
    "```\n",
    "Now that the party is jumping\\n\n",
    "```\n",
    "Interesting results. Perhaps character means English letter, not ASCII character. \n",
    "\n",
    "Also, the authors are __obsessed__ with Vanilla Ice. \n",
    "***"
   ]
  },
  {
   "cell_type": "markdown",
   "metadata": {
    "collapsed": true
   },
   "source": [
    "## Challenge 5\n",
    "### Repeating Key XOR cipher\n",
    "\n",
    "One counter cycles through the hex encoding of the plaintext, and one through the hex encoded key => 4 bits per iteration. However, I think I can give one byte at a time to my (old) function, since there will always a multiple of bytes (ASCII encoding). "
   ]
  },
  {
   "cell_type": "code",
   "execution_count": null,
   "metadata": {
    "collapsed": true
   },
   "outputs": [],
   "source": [
    "def repeating_key_xor(plaintext, key):\n",
    "    '''\n",
    "    Apply the repeating (hex) key XOR cipher to (hex) plaintext and return the (hex)ciphertext\n",
    "    '''\n",
    "    ciphertext = \"\"\n",
    "    keymod = len(key)\n",
    "    for i in range(len(plaintext)):\n",
    "        ciphertext += bitwise_xor(plaintext[i], key[i%keymod]) \n",
    "    return ciphertext\n",
    "\n",
    "def ascii_to_hex(asciistr):\n",
    "    '''\n",
    "    Takes an ASCII string as input and returns \n",
    "    '''\n",
    "    return \"\".join([hex(ord(c))[2:] for c in asciistr])"
   ]
  },
  {
   "cell_type": "code",
   "execution_count": null,
   "metadata": {
    "collapsed": true
   },
   "outputs": [],
   "source": [
    "## check\n",
    "plaintext_1 = \"Burning 'em, if you ain't quick and nimbleI go crazy when I hear a cymbal\"\n",
    "plaintext_1_hex = ascii_to_hex(plaintext_1)\n",
    "key_1 = \"ICE\"\n",
    "key_1_hex = ascii_to_hex(key_1)\n",
    "xor_ciphertext = \"0b3637272a2b2e63622c2e69692a23693a2a3c6324202d623d63343c2a26226324272765272a282b2f20430a652e2c652a3124333a653e2b2027630c692b20283165286326302e27282f\"\n",
    "print(xor_ciphertext == repeating_key_xor(plaintext_1_hex, key_1_hex))"
   ]
  }
 ],
 "metadata": {
  "anaconda-cloud": {},
  "kernelspec": {
   "display_name": "Python [Root]",
   "language": "python",
   "name": "Python [Root]"
  },
  "language_info": {
   "codemirror_mode": {
    "name": "ipython",
    "version": 3
   },
   "file_extension": ".py",
   "mimetype": "text/x-python",
   "name": "python",
   "nbconvert_exporter": "python",
   "pygments_lexer": "ipython3",
   "version": "3.5.2"
  }
 },
 "nbformat": 4,
 "nbformat_minor": 0
}
